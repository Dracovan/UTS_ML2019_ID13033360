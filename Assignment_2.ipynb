{
  "nbformat": 4,
  "nbformat_minor": 0,
  "metadata": {
    "colab": {
      "name": "Assignment_2.ipynb",
      "provenance": [],
      "collapsed_sections": [],
      "include_colab_link": true
    },
    "kernelspec": {
      "name": "python3",
      "display_name": "Python 3"
    }
  },
  "cells": [
    {
      "cell_type": "markdown",
      "metadata": {
        "id": "view-in-github",
        "colab_type": "text"
      },
      "source": [
        "<a href=\"https://colab.research.google.com/github/Dracovan/UTS_ML2019_ID13033360/blob/master/Assignment_2.ipynb\" target=\"_parent\"><img src=\"https://colab.research.google.com/assets/colab-badge.svg\" alt=\"Open In Colab\"/></a>"
      ]
    },
    {
      "cell_type": "markdown",
      "metadata": {
        "id": "trla351mMb_Y",
        "colab_type": "text"
      },
      "source": [
        "Assignment 2 - Practical Machine Learning Project"
      ]
    },
    {
      "cell_type": "code",
      "metadata": {
        "id": "mRgEkKqeMn02",
        "colab_type": "code",
        "colab": {}
      },
      "source": [
        "import torch\n",
        "import pandas as pd\n",
        "import numpy as pd"
      ],
      "execution_count": 0,
      "outputs": []
    },
    {
      "cell_type": "code",
      "metadata": {
        "id": "q648BoRRYH3Q",
        "colab_type": "code",
        "outputId": "e01194ec-d0f0-4e00-f2c6-0a5cec1a6dab",
        "colab": {
          "base_uri": "https://localhost:8080/",
          "height": 54
        }
      },
      "source": [
        "import sys\n",
        "print (sys.version)"
      ],
      "execution_count": 0,
      "outputs": [
        {
          "output_type": "stream",
          "text": [
            "3.6.8 (default, Jan 14 2019, 11:02:34) \n",
            "[GCC 8.0.1 20180414 (experimental) [trunk revision 259383]]\n"
          ],
          "name": "stdout"
        }
      ]
    },
    {
      "cell_type": "markdown",
      "metadata": {
        "id": "Y9sqSPtAyMoD",
        "colab_type": "text"
      },
      "source": [
        "Introduction\n",
        "Define Problem\n",
        "Significance\n"
      ]
    },
    {
      "cell_type": "markdown",
      "metadata": {
        "id": "U9qHeEXhyXDR",
        "colab_type": "text"
      },
      "source": [
        "Exploration"
      ]
    }
  ]
}