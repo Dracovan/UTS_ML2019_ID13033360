{
  "nbformat": 4,
  "nbformat_minor": 0,
  "metadata": {
    "colab": {
      "name": "Assignment_2.ipynb",
      "provenance": [],
      "include_colab_link": true
    },
    "kernelspec": {
      "name": "python3",
      "display_name": "Python 3"
    }
  },
  "cells": [
    {
      "cell_type": "markdown",
      "metadata": {
        "id": "view-in-github",
        "colab_type": "text"
      },
      "source": [
        "<a href=\"https://colab.research.google.com/github/Dracovan/UTS_ML2019_ID13033360/blob/master/Assignment_2.ipynb\" target=\"_parent\"><img src=\"https://colab.research.google.com/assets/colab-badge.svg\" alt=\"Open In Colab\"/></a>"
      ]
    },
    {
      "cell_type": "markdown",
      "metadata": {
        "id": "trla351mMb_Y",
        "colab_type": "text"
      },
      "source": [
        "Assignment 2 - Practical Machine Learning Project"
      ]
    },
    {
      "cell_type": "code",
      "metadata": {
        "id": "mRgEkKqeMn02",
        "colab_type": "code",
        "colab": {}
      },
      "source": [
        "import torch"
      ],
      "execution_count": 0,
      "outputs": []
    },
    {
      "cell_type": "code",
      "metadata": {
        "id": "q648BoRRYH3Q",
        "colab_type": "code",
        "outputId": "f6603a2b-7164-44d3-f165-165fbca83755",
        "colab": {
          "base_uri": "https://localhost:8080/",
          "height": 54
        }
      },
      "source": [
        "import sys\n",
        "print (sys.version)"
      ],
      "execution_count": 0,
      "outputs": [
        {
          "output_type": "stream",
          "text": [
            "3.6.8 (default, Jan 14 2019, 11:02:34) \n",
            "[GCC 8.0.1 20180414 (experimental) [trunk revision 259383]]\n"
          ],
          "name": "stdout"
        }
      ]
    },
    {
      "cell_type": "code",
      "metadata": {
        "id": "PsxVBgphbTW4",
        "colab_type": "code",
        "colab": {}
      },
      "source": [
        "import torch\n",
        "import torch.nn as nn\n",
        "import torch.optim as optim\n",
        "from torch.autograd import Variable\n",
        "from pandas_datareader import data\n",
        "import pandas_datareader as web\n",
        "import datetime\n",
        "import matplotlib.pyplot as plt\n",
        "from sklearn.preprocessing import MinMaxScaler\n",
        "import numpy as np\n",
        "import pandas as pd\n",
        "%matplotlib inline"
      ],
      "execution_count": 0,
      "outputs": []
    },
    {
      "cell_type": "code",
      "metadata": {
        "id": "jGtmcjCXbgLx",
        "colab_type": "code",
        "colab": {
          "base_uri": "https://localhost:8080/",
          "height": 238
        },
        "outputId": "5ad7d1b7-1973-4f88-d0a9-1816f19b95cf"
      },
      "source": [
        "data = web.data.get_data_yahoo('gold', start='2017-01-01', end='2019-09-02')\n",
        "data.head()"
      ],
      "execution_count": 5,
      "outputs": [
        {
          "output_type": "execute_result",
          "data": {
            "text/html": [
              "<div>\n",
              "<style scoped>\n",
              "    .dataframe tbody tr th:only-of-type {\n",
              "        vertical-align: middle;\n",
              "    }\n",
              "\n",
              "    .dataframe tbody tr th {\n",
              "        vertical-align: top;\n",
              "    }\n",
              "\n",
              "    .dataframe thead th {\n",
              "        text-align: right;\n",
              "    }\n",
              "</style>\n",
              "<table border=\"1\" class=\"dataframe\">\n",
              "  <thead>\n",
              "    <tr style=\"text-align: right;\">\n",
              "      <th></th>\n",
              "      <th>High</th>\n",
              "      <th>Low</th>\n",
              "      <th>Open</th>\n",
              "      <th>Close</th>\n",
              "      <th>Volume</th>\n",
              "      <th>Adj Close</th>\n",
              "    </tr>\n",
              "    <tr>\n",
              "      <th>Date</th>\n",
              "      <th></th>\n",
              "      <th></th>\n",
              "      <th></th>\n",
              "      <th></th>\n",
              "      <th></th>\n",
              "      <th></th>\n",
              "    </tr>\n",
              "  </thead>\n",
              "  <tbody>\n",
              "    <tr>\n",
              "      <th>2017-01-03</th>\n",
              "      <td>16.440001</td>\n",
              "      <td>15.870000</td>\n",
              "      <td>16.000000</td>\n",
              "      <td>16.389999</td>\n",
              "      <td>18580800.0</td>\n",
              "      <td>15.914813</td>\n",
              "    </tr>\n",
              "    <tr>\n",
              "      <th>2017-01-04</th>\n",
              "      <td>16.629999</td>\n",
              "      <td>16.170000</td>\n",
              "      <td>16.559999</td>\n",
              "      <td>16.400000</td>\n",
              "      <td>13709300.0</td>\n",
              "      <td>15.924528</td>\n",
              "    </tr>\n",
              "    <tr>\n",
              "      <th>2017-01-05</th>\n",
              "      <td>17.500000</td>\n",
              "      <td>16.760000</td>\n",
              "      <td>16.780001</td>\n",
              "      <td>17.370001</td>\n",
              "      <td>26859600.0</td>\n",
              "      <td>16.866405</td>\n",
              "    </tr>\n",
              "    <tr>\n",
              "      <th>2017-01-06</th>\n",
              "      <td>17.370001</td>\n",
              "      <td>16.690001</td>\n",
              "      <td>17.020000</td>\n",
              "      <td>16.930000</td>\n",
              "      <td>17819500.0</td>\n",
              "      <td>16.439161</td>\n",
              "    </tr>\n",
              "    <tr>\n",
              "      <th>2017-01-09</th>\n",
              "      <td>17.299999</td>\n",
              "      <td>16.860001</td>\n",
              "      <td>17.280001</td>\n",
              "      <td>16.969999</td>\n",
              "      <td>15596300.0</td>\n",
              "      <td>16.478001</td>\n",
              "    </tr>\n",
              "  </tbody>\n",
              "</table>\n",
              "</div>"
            ],
            "text/plain": [
              "                 High        Low       Open      Close      Volume  Adj Close\n",
              "Date                                                                         \n",
              "2017-01-03  16.440001  15.870000  16.000000  16.389999  18580800.0  15.914813\n",
              "2017-01-04  16.629999  16.170000  16.559999  16.400000  13709300.0  15.924528\n",
              "2017-01-05  17.500000  16.760000  16.780001  17.370001  26859600.0  16.866405\n",
              "2017-01-06  17.370001  16.690001  17.020000  16.930000  17819500.0  16.439161\n",
              "2017-01-09  17.299999  16.860001  17.280001  16.969999  15596300.0  16.478001"
            ]
          },
          "metadata": {
            "tags": []
          },
          "execution_count": 5
        }
      ]
    },
    {
      "cell_type": "markdown",
      "metadata": {
        "id": "SGSjv_tDbTA5",
        "colab_type": "text"
      },
      "source": [
        ""
      ]
    }
  ]
}